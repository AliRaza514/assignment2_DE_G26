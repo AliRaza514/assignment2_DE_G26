{
  "metadata": {
    "kernelspec": {
      "name": "python3",
      "display_name": "Python 3",
      "language": "python"
    },
    "language_info": {
      "name": "python",
      "version": "3.10.12",
      "mimetype": "text/x-python",
      "codemirror_mode": {
        "name": "ipython",
        "version": 3
      },
      "pygments_lexer": "ipython3",
      "nbconvert_exporter": "python",
      "file_extension": ".py"
    },
    "celltoolbar": "Slideshow",
    "sparkconnect": {
      "bundled_options": [],
      "list_of_options": []
    },
    "colab": {
      "provenance": []
    },
    "kaggle": {
      "accelerator": "none",
      "dataSources": [
        {
          "sourceId": 10983259,
          "sourceType": "datasetVersion",
          "datasetId": 6835519
        },
        {
          "sourceId": 10983346,
          "sourceType": "datasetVersion",
          "datasetId": 6835585
        }
      ],
      "dockerImageVersionId": 30918,
      "isInternetEnabled": true,
      "language": "python",
      "sourceType": "notebook",
      "isGpuEnabled": false
    }
  },
  "nbformat_minor": 0,
  "nbformat": 4,
  "cells": [
    {
      "cell_type": "markdown",
      "source": [
        "## This notebook is part of the Apache Spark training delivered by CERN IT\n"
      ],
      "metadata": {
        "id": "8HnNnrLMrJLJ"
      }
    },
    {
      "cell_type": "markdown",
      "source": [
        "Run this notebook from Jupyter with Python kernel\n",
        "- When running on CERN SWAN, do not attach the notebook to a Spark cluster, but rather run it locally on the SWAN container (which is the default)\n",
        "- If running this outside CERN SWAN, please make sure to have PySpark installed: `pip install pyspark`\n",
        "\n",
        "\n",
        "In order to run this notebook as slides:\n",
        " - on SWAN click on the button \"Enter/Exit RISE slideshow\" in the ribbon\n",
        " - on other environments please make sure to have the RISE extension installed `pip install RISE`"
      ],
      "metadata": {
        "id": "LuIyGgJQrJLK"
      }
    },
    {
      "cell_type": "markdown",
      "source": [
        "### SPARK DataFrame Hands-On Lab\n",
        "Contact: Luca.Canali@cern.ch\n",
        "\n",
        "### Objective: Perform Basic DataFrame Operations\n",
        "1. Creating DataFrames\n",
        "2. Select columns\n",
        "3. Add, rename and drop columns\n",
        "4. Filtering rows\n",
        "5. Aggregations"
      ],
      "metadata": {
        "id": "gyNKilPLrJLL"
      }
    },
    {
      "cell_type": "markdown",
      "source": [
        "## Getting started: create the SparkSession"
      ],
      "metadata": {
        "id": "Hi1rnFFerJLM"
      }
    },
    {
      "cell_type": "code",
      "source": [
        "!pip install pyspark"
      ],
      "metadata": {
        "colab": {
          "base_uri": "https://localhost:8080/"
        },
        "id": "JPpy_C2GrNc8",
        "outputId": "86b08ea8-d483-42e4-c40d-6a1be3067b4e",
        "trusted": true,
        "execution": {
          "iopub.status.busy": "2025-03-10T17:51:57.203102Z",
          "iopub.execute_input": "2025-03-10T17:51:57.203571Z",
          "iopub.status.idle": "2025-03-10T17:52:03.170337Z",
          "shell.execute_reply.started": "2025-03-10T17:51:57.203528Z",
          "shell.execute_reply": "2025-03-10T17:52:03.168823Z"
        }
      },
      "outputs": [
        {
          "output_type": "stream",
          "name": "stdout",
          "text": [
            "Requirement already satisfied: pyspark in /usr/local/lib/python3.11/dist-packages (3.5.5)\n",
            "Requirement already satisfied: py4j==0.10.9.7 in /usr/local/lib/python3.11/dist-packages (from pyspark) (0.10.9.7)\n"
          ]
        }
      ],
      "execution_count": 1
    },
    {
      "cell_type": "code",
      "source": [
        "# !pip install pyspark\n",
        "\n",
        "from pyspark.sql import SparkSession\n",
        "\n",
        "spark = (SparkSession.builder\n",
        "          .master(\"local[*]\") \\\n",
        "          .appName(\"DataFrame HandsOn 1\") \\\n",
        "          .config(\"spark.ui.showConsoleProgress\",\"false\") \\\n",
        "          .getOrCreate()\n",
        "        )\n",
        "\n",
        "spark"
      ],
      "metadata": {
        "scrolled": true,
        "colab": {
          "base_uri": "https://localhost:8080/",
          "height": 211
        },
        "id": "hIg9iY8yrJLM",
        "outputId": "2e0ce14d-6723-4329-a479-62dabd2fab54",
        "trusted": true,
        "execution": {
          "iopub.status.busy": "2025-03-10T18:14:23.072737Z",
          "iopub.execute_input": "2025-03-10T18:14:23.073067Z",
          "iopub.status.idle": "2025-03-10T18:14:23.092939Z",
          "shell.execute_reply.started": "2025-03-10T18:14:23.073040Z",
          "shell.execute_reply": "2025-03-10T18:14:23.091902Z"
        }
      },
      "outputs": [
        {
          "output_type": "execute_result",
          "data": {
            "text/plain": [
              "<pyspark.sql.session.SparkSession at 0x7a9d1c1aad90>"
            ],
            "text/html": [
              "\n",
              "            <div>\n",
              "                <p><b>SparkSession - in-memory</b></p>\n",
              "                \n",
              "        <div>\n",
              "            <p><b>SparkContext</b></p>\n",
              "\n",
              "            <p><a href=\"http://d9e75b546697:4040\">Spark UI</a></p>\n",
              "\n",
              "            <dl>\n",
              "              <dt>Version</dt>\n",
              "                <dd><code>v3.5.5</code></dd>\n",
              "              <dt>Master</dt>\n",
              "                <dd><code>local[*]</code></dd>\n",
              "              <dt>AppName</dt>\n",
              "                <dd><code>DataFrame HandsOn 1</code></dd>\n",
              "            </dl>\n",
              "        </div>\n",
              "        \n",
              "            </div>\n",
              "        "
            ]
          },
          "metadata": {},
          "execution_count": 2
        }
      ],
      "execution_count": 2
    },
    {
      "cell_type": "markdown",
      "source": [
        "The master `local[*]` means that the executors are in the same node that is running the driver. The `*` tells Spark to start as many executors as there are logical cores available"
      ],
      "metadata": {
        "id": "ikTo070grJLN"
      }
    },
    {
      "cell_type": "markdown",
      "source": [
        "### Hands-On 1 - Construct a DataFrame from csv file\n",
        "This demostrates how to read a csv file and construct a DataFrame.  \n",
        "We will use the online retail dataset from Kaggle, credits: https://www.kaggle.com/datasets/vijayuv/onlineretail\n"
      ],
      "metadata": {
        "id": "cSJSGyY5rJLO"
      }
    },
    {
      "cell_type": "markdown",
      "source": [
        "#### First, let's inspect the csv content"
      ],
      "metadata": {
        "id": "dSjhlX-XrJLP"
      }
    },
    {
      "cell_type": "code",
      "source": [
        "#modify below code to use the downloaded dataset\n",
        "\n",
        "# !gzip -cd ../data/online-retail-dataset.csv.gz 2>&1| head -n3"
      ],
      "metadata": {
        "colab": {
          "base_uri": "https://localhost:8080/"
        },
        "id": "152IyR1_rJLQ",
        "outputId": "1a6727ed-f030-46cc-f0da-3c54691e42b8",
        "trusted": true,
        "execution": {
          "iopub.status.busy": "2025-03-10T16:00:14.166517Z",
          "iopub.execute_input": "2025-03-10T16:00:14.167038Z",
          "iopub.status.idle": "2025-03-10T16:00:14.293927Z",
          "shell.execute_reply.started": "2025-03-10T16:00:14.167004Z",
          "shell.execute_reply": "2025-03-10T16:00:14.292698Z"
        }
      },
      "outputs": [
        {
          "output_type": "stream",
          "name": "stdout",
          "text": [
            "gzip: ../data/online-retail-dataset.csv.gz: No such file or directory\n"
          ]
        }
      ],
      "execution_count": 5
    },
    {
      "cell_type": "code",
      "source": [
        "online_retail_schema=\"InvoiceNo int, StockCode string, Description string, Quantity int,\\\n",
        "InvoiceDate timestamp,UnitPrice float,CustomerId int, Country string\""
      ],
      "metadata": {
        "id": "qybMDn5nrJLR",
        "trusted": true,
        "execution": {
          "iopub.status.busy": "2025-03-10T18:14:27.171154Z",
          "iopub.execute_input": "2025-03-10T18:14:27.171530Z",
          "iopub.status.idle": "2025-03-10T18:14:27.176144Z",
          "shell.execute_reply.started": "2025-03-10T18:14:27.171500Z",
          "shell.execute_reply": "2025-03-10T18:14:27.175027Z"
        }
      },
      "outputs": [],
      "execution_count": 6
    },
    {
      "cell_type": "code",
      "source": [
        "df = (spark.read\n",
        "        .option(\"header\", \"true\")\n",
        "        .option(\"timestampFormat\", \"M/d/yyyy H:m\")\n",
        "        .csv(\"OnlineRetail.csv\",\n",
        "             schema=online_retail_schema)\n",
        "     )"
      ],
      "metadata": {
        "id": "sv7EHRnLrJLR",
        "trusted": true,
        "execution": {
          "iopub.status.busy": "2025-03-10T18:14:30.253498Z",
          "iopub.execute_input": "2025-03-10T18:14:30.253938Z",
          "iopub.status.idle": "2025-03-10T18:14:30.298982Z",
          "shell.execute_reply.started": "2025-03-10T18:14:30.253903Z",
          "shell.execute_reply": "2025-03-10T18:14:30.297290Z"
        }
      },
      "outputs": [],
      "execution_count": 7
    },
    {
      "cell_type": "markdown",
      "source": [
        "#### Inspect the data"
      ],
      "metadata": {
        "id": "l13Fs5LHrJLR"
      }
    },
    {
      "cell_type": "code",
      "source": [
        "df.show(2, False)"
      ],
      "metadata": {
        "scrolled": true,
        "id": "M_QjfHXqrJLT",
        "outputId": "c3a5987a-36c9-40ef-eb7a-d8ecbb3e81f6",
        "trusted": true,
        "execution": {
          "iopub.status.busy": "2025-03-10T18:14:41.146565Z",
          "iopub.execute_input": "2025-03-10T18:14:41.146902Z",
          "iopub.status.idle": "2025-03-10T18:14:41.299838Z",
          "shell.execute_reply.started": "2025-03-10T18:14:41.146875Z",
          "shell.execute_reply": "2025-03-10T18:14:41.297312Z"
        },
        "colab": {
          "base_uri": "https://localhost:8080/"
        }
      },
      "outputs": [
        {
          "output_type": "stream",
          "name": "stdout",
          "text": [
            "+---------+---------+----------------------------------+--------+-------------------+---------+----------+--------------+\n",
            "|InvoiceNo|StockCode|Description                       |Quantity|InvoiceDate        |UnitPrice|CustomerId|Country       |\n",
            "+---------+---------+----------------------------------+--------+-------------------+---------+----------+--------------+\n",
            "|536365   |85123A   |WHITE HANGING HEART T-LIGHT HOLDER|6       |2010-12-01 08:26:00|2.55     |17850     |United Kingdom|\n",
            "|536365   |71053    |WHITE METAL LANTERN               |6       |2010-12-01 08:26:00|3.39     |17850     |United Kingdom|\n",
            "+---------+---------+----------------------------------+--------+-------------------+---------+----------+--------------+\n",
            "only showing top 2 rows\n",
            "\n"
          ]
        }
      ],
      "execution_count": 8
    },
    {
      "cell_type": "markdown",
      "source": [
        "#### Show columns"
      ],
      "metadata": {
        "id": "7wELzfkKrJLU"
      }
    },
    {
      "cell_type": "code",
      "source": [
        "df.printSchema()"
      ],
      "metadata": {
        "id": "BKbNp-ABrJLU",
        "outputId": "83fb9bf2-6b02-416d-99f4-eb109e36e485",
        "trusted": true,
        "execution": {
          "iopub.status.busy": "2025-03-10T18:14:43.732852Z",
          "iopub.execute_input": "2025-03-10T18:14:43.733828Z",
          "iopub.status.idle": "2025-03-10T18:14:43.742597Z",
          "shell.execute_reply.started": "2025-03-10T18:14:43.733528Z",
          "shell.execute_reply": "2025-03-10T18:14:43.741234Z"
        },
        "colab": {
          "base_uri": "https://localhost:8080/"
        }
      },
      "outputs": [
        {
          "output_type": "stream",
          "name": "stdout",
          "text": [
            "root\n",
            " |-- InvoiceNo: integer (nullable = true)\n",
            " |-- StockCode: string (nullable = true)\n",
            " |-- Description: string (nullable = true)\n",
            " |-- Quantity: integer (nullable = true)\n",
            " |-- InvoiceDate: timestamp (nullable = true)\n",
            " |-- UnitPrice: float (nullable = true)\n",
            " |-- CustomerId: integer (nullable = true)\n",
            " |-- Country: string (nullable = true)\n",
            "\n"
          ]
        }
      ],
      "execution_count": 9
    },
    {
      "cell_type": "markdown",
      "source": [
        "### Hands-On 2 - Spark Transformations - select, add, rename and drop columns"
      ],
      "metadata": {
        "id": "9IG2FcvbrJLU"
      }
    },
    {
      "cell_type": "markdown",
      "source": [
        "Select dataframe columns"
      ],
      "metadata": {
        "id": "NWUZGPXHrJLU"
      }
    },
    {
      "cell_type": "code",
      "source": [
        "# select single column\n",
        "\n",
        "df.select(\"Country\").show(2)"
      ],
      "metadata": {
        "scrolled": true,
        "id": "mtuDLKvtrJLU",
        "outputId": "92083d3f-e790-483d-b127-28481456db03",
        "trusted": true,
        "execution": {
          "iopub.status.busy": "2025-03-10T18:14:47.273075Z",
          "iopub.execute_input": "2025-03-10T18:14:47.273451Z",
          "iopub.status.idle": "2025-03-10T18:14:47.392880Z",
          "shell.execute_reply.started": "2025-03-10T18:14:47.273415Z",
          "shell.execute_reply": "2025-03-10T18:14:47.391642Z"
        },
        "colab": {
          "base_uri": "https://localhost:8080/"
        }
      },
      "outputs": [
        {
          "output_type": "stream",
          "name": "stdout",
          "text": [
            "+--------------+\n",
            "|       Country|\n",
            "+--------------+\n",
            "|United Kingdom|\n",
            "|United Kingdom|\n",
            "+--------------+\n",
            "only showing top 2 rows\n",
            "\n"
          ]
        }
      ],
      "execution_count": 10
    },
    {
      "cell_type": "markdown",
      "source": [
        "Select multiple columns\n"
      ],
      "metadata": {
        "id": "svYP-Nj6rJLU"
      }
    },
    {
      "cell_type": "code",
      "source": [
        "df.select(\"StockCode\",\"Description\",\"UnitPrice\").show(n=2, truncate=False)"
      ],
      "metadata": {
        "id": "9PRdayYrrJLU",
        "outputId": "540b3119-703d-4f24-9a42-e1a7ad21f601",
        "trusted": true,
        "execution": {
          "iopub.status.busy": "2025-03-10T18:14:49.198468Z",
          "iopub.execute_input": "2025-03-10T18:14:49.198796Z",
          "iopub.status.idle": "2025-03-10T18:14:49.371206Z",
          "shell.execute_reply.started": "2025-03-10T18:14:49.198770Z",
          "shell.execute_reply": "2025-03-10T18:14:49.368178Z"
        },
        "colab": {
          "base_uri": "https://localhost:8080/"
        }
      },
      "outputs": [
        {
          "output_type": "stream",
          "name": "stdout",
          "text": [
            "+---------+----------------------------------+---------+\n",
            "|StockCode|Description                       |UnitPrice|\n",
            "+---------+----------------------------------+---------+\n",
            "|85123A   |WHITE HANGING HEART T-LIGHT HOLDER|2.55     |\n",
            "|71053    |WHITE METAL LANTERN               |3.39     |\n",
            "+---------+----------------------------------+---------+\n",
            "only showing top 2 rows\n",
            "\n"
          ]
        }
      ],
      "execution_count": 11
    },
    {
      "cell_type": "code",
      "source": [
        "df.columns"
      ],
      "metadata": {
        "id": "gB4enTonrJLV",
        "outputId": "d1636c18-2feb-4a2e-b735-13232edb3bf3",
        "trusted": true,
        "execution": {
          "iopub.status.busy": "2025-03-10T18:14:54.711989Z",
          "iopub.execute_input": "2025-03-10T18:14:54.712334Z",
          "iopub.status.idle": "2025-03-10T18:14:54.718391Z",
          "shell.execute_reply.started": "2025-03-10T18:14:54.712307Z",
          "shell.execute_reply": "2025-03-10T18:14:54.717397Z"
        },
        "colab": {
          "base_uri": "https://localhost:8080/"
        }
      },
      "outputs": [
        {
          "output_type": "execute_result",
          "data": {
            "text/plain": [
              "['InvoiceNo',\n",
              " 'StockCode',\n",
              " 'Description',\n",
              " 'Quantity',\n",
              " 'InvoiceDate',\n",
              " 'UnitPrice',\n",
              " 'CustomerId',\n",
              " 'Country']"
            ]
          },
          "metadata": {},
          "execution_count": 12
        }
      ],
      "execution_count": 12
    },
    {
      "cell_type": "code",
      "source": [
        "# select first 5 columns\n",
        "df.select(df.columns[0:5]).show(2)"
      ],
      "metadata": {
        "id": "9OuOr9j8rJLV",
        "outputId": "fe4c0bee-9f86-463d-986b-63e67d3312df",
        "trusted": true,
        "execution": {
          "iopub.status.busy": "2025-03-10T18:14:55.519304Z",
          "iopub.execute_input": "2025-03-10T18:14:55.519694Z",
          "iopub.status.idle": "2025-03-10T18:14:55.656562Z",
          "shell.execute_reply.started": "2025-03-10T18:14:55.519666Z",
          "shell.execute_reply": "2025-03-10T18:14:55.655421Z"
        },
        "colab": {
          "base_uri": "https://localhost:8080/"
        }
      },
      "outputs": [
        {
          "output_type": "stream",
          "name": "stdout",
          "text": [
            "+---------+---------+--------------------+--------+-------------------+\n",
            "|InvoiceNo|StockCode|         Description|Quantity|        InvoiceDate|\n",
            "+---------+---------+--------------------+--------+-------------------+\n",
            "|   536365|   85123A|WHITE HANGING HEA...|       6|2010-12-01 08:26:00|\n",
            "|   536365|    71053| WHITE METAL LANTERN|       6|2010-12-01 08:26:00|\n",
            "+---------+---------+--------------------+--------+-------------------+\n",
            "only showing top 2 rows\n",
            "\n"
          ]
        }
      ],
      "execution_count": 13
    },
    {
      "cell_type": "code",
      "source": [
        "# selects all the original columns and adds a new column that specifies high value item\n",
        "(df.selectExpr(\n",
        "   \"*\", # all original columns\n",
        "   \"(UnitPrice > 100) as HighValueItem\")\n",
        "   .show(2)\n",
        ")"
      ],
      "metadata": {
        "id": "OlY1qkVBrJLV",
        "outputId": "7f4f9809-7860-4eb6-dc29-add6a5886ed8",
        "trusted": true,
        "execution": {
          "iopub.status.busy": "2025-03-10T18:14:57.982459Z",
          "iopub.execute_input": "2025-03-10T18:14:57.982787Z",
          "iopub.status.idle": "2025-03-10T18:14:58.279421Z",
          "shell.execute_reply.started": "2025-03-10T18:14:57.982761Z",
          "shell.execute_reply": "2025-03-10T18:14:58.278308Z"
        },
        "colab": {
          "base_uri": "https://localhost:8080/"
        }
      },
      "outputs": [
        {
          "output_type": "stream",
          "name": "stdout",
          "text": [
            "+---------+---------+--------------------+--------+-------------------+---------+----------+--------------+-------------+\n",
            "|InvoiceNo|StockCode|         Description|Quantity|        InvoiceDate|UnitPrice|CustomerId|       Country|HighValueItem|\n",
            "+---------+---------+--------------------+--------+-------------------+---------+----------+--------------+-------------+\n",
            "|   536365|   85123A|WHITE HANGING HEA...|       6|2010-12-01 08:26:00|     2.55|     17850|United Kingdom|        false|\n",
            "|   536365|    71053| WHITE METAL LANTERN|       6|2010-12-01 08:26:00|     3.39|     17850|United Kingdom|        false|\n",
            "+---------+---------+--------------------+--------+-------------------+---------+----------+--------------+-------------+\n",
            "only showing top 2 rows\n",
            "\n"
          ]
        }
      ],
      "execution_count": 14
    },
    {
      "cell_type": "code",
      "source": [
        "# selects all the original columns and adds a new column that specifies high value item\n",
        "(df.selectExpr(\n",
        "  \"sum(Quantity) as TotalQuantity\",\n",
        "  \"cast(sum(UnitPrice) as int) as InventoryValue\")\n",
        "  .show()\n",
        ")"
      ],
      "metadata": {
        "id": "0IiNqEgTrJLW",
        "outputId": "53c5f079-cb13-4a78-d847-378eb0e60d17",
        "trusted": true,
        "execution": {
          "iopub.status.busy": "2025-03-10T18:14:58.357187Z",
          "iopub.execute_input": "2025-03-10T18:14:58.357649Z",
          "iopub.status.idle": "2025-03-10T18:14:59.245018Z",
          "shell.execute_reply.started": "2025-03-10T18:14:58.357608Z",
          "shell.execute_reply": "2025-03-10T18:14:59.243842Z"
        },
        "colab": {
          "base_uri": "https://localhost:8080/"
        }
      },
      "outputs": [
        {
          "output_type": "stream",
          "name": "stdout",
          "text": [
            "+-------------+--------------+\n",
            "|TotalQuantity|InventoryValue|\n",
            "+-------------+--------------+\n",
            "|       633748|        423584|\n",
            "+-------------+--------------+\n",
            "\n"
          ]
        }
      ],
      "execution_count": 15
    },
    {
      "cell_type": "markdown",
      "source": [
        "#### Adding, renaming and dropping columns"
      ],
      "metadata": {
        "id": "vvSNTynGrJLW"
      }
    },
    {
      "cell_type": "code",
      "source": [
        "# add a new column called InvoiceValue\n",
        "from pyspark.sql.functions import expr\n",
        "df_1 = (df\n",
        "        .withColumn(\"InvoiceValue\", expr(\"UnitPrice * Quantity\"))\n",
        "        .select(\"InvoiceNo\",\"Description\",\"UnitPrice\",\"Quantity\",\"InvoiceValue\")\n",
        "       )\n",
        "df_1.show(2, False)\n",
        "\n",
        "# rename InvoiceValue to LineTotal\n",
        "df_2 = df_1.withColumnRenamed(\"InvoiceValue\",\"LineTotal\")\n",
        "df_2.show(2, False)\n",
        "\n",
        "# drop a column\n",
        "df_2.drop(\"LineTotal\").show(2, False)"
      ],
      "metadata": {
        "id": "l1FQcKONrJLW",
        "outputId": "2a742c64-2ae5-468b-b7da-7ff3ecb5453f",
        "trusted": true,
        "execution": {
          "iopub.status.busy": "2025-03-10T18:15:21.299839Z",
          "iopub.execute_input": "2025-03-10T18:15:21.300238Z",
          "iopub.status.idle": "2025-03-10T18:15:21.780112Z",
          "shell.execute_reply.started": "2025-03-10T18:15:21.300207Z",
          "shell.execute_reply": "2025-03-10T18:15:21.778878Z"
        },
        "colab": {
          "base_uri": "https://localhost:8080/"
        }
      },
      "outputs": [
        {
          "output_type": "stream",
          "name": "stdout",
          "text": [
            "+---------+----------------------------------+---------+--------+------------+\n",
            "|InvoiceNo|Description                       |UnitPrice|Quantity|InvoiceValue|\n",
            "+---------+----------------------------------+---------+--------+------------+\n",
            "|536365   |WHITE HANGING HEART T-LIGHT HOLDER|2.55     |6       |15.299999   |\n",
            "|536365   |WHITE METAL LANTERN               |3.39     |6       |20.34       |\n",
            "+---------+----------------------------------+---------+--------+------------+\n",
            "only showing top 2 rows\n",
            "\n",
            "+---------+----------------------------------+---------+--------+---------+\n",
            "|InvoiceNo|Description                       |UnitPrice|Quantity|LineTotal|\n",
            "+---------+----------------------------------+---------+--------+---------+\n",
            "|536365   |WHITE HANGING HEART T-LIGHT HOLDER|2.55     |6       |15.299999|\n",
            "|536365   |WHITE METAL LANTERN               |3.39     |6       |20.34    |\n",
            "+---------+----------------------------------+---------+--------+---------+\n",
            "only showing top 2 rows\n",
            "\n",
            "+---------+----------------------------------+---------+--------+\n",
            "|InvoiceNo|Description                       |UnitPrice|Quantity|\n",
            "+---------+----------------------------------+---------+--------+\n",
            "|536365   |WHITE HANGING HEART T-LIGHT HOLDER|2.55     |6       |\n",
            "|536365   |WHITE METAL LANTERN               |3.39     |6       |\n",
            "+---------+----------------------------------+---------+--------+\n",
            "only showing top 2 rows\n",
            "\n"
          ]
        }
      ],
      "execution_count": 16
    },
    {
      "cell_type": "markdown",
      "source": [
        "### Hands-On 3 - Spark Transformations - filter, sort and cast"
      ],
      "metadata": {
        "id": "yUOj7aBmrJLW"
      }
    },
    {
      "cell_type": "code",
      "source": [
        "from pyspark.sql.functions import col\n",
        "\n",
        "# select invoice lines with quantity > 50 and unitprice > 20\n",
        "df.where(col(\"Quantity\") > 20).where(col(\"UnitPrice\") > 50).show(2,False)\n",
        "df.filter(df.Quantity > 20).filter(df.UnitPrice > 50).show(2)\n",
        "df.filter(\"Quantity > 20 and UnitPrice > 50\").show(2)"
      ],
      "metadata": {
        "id": "lvKUpyYgrJLW",
        "outputId": "a85e86fa-8631-4b8a-841a-0afe936a0d38",
        "trusted": true,
        "execution": {
          "iopub.status.busy": "2025-03-10T18:15:25.071022Z",
          "iopub.execute_input": "2025-03-10T18:15:25.071428Z",
          "iopub.status.idle": "2025-03-10T18:15:28.340256Z",
          "shell.execute_reply.started": "2025-03-10T18:15:25.071387Z",
          "shell.execute_reply": "2025-03-10T18:15:28.338163Z"
        }
      },
      "outputs": [
        {
          "name": "stdout",
          "text": "+---------+---------+------------------------------+--------+-------------------+---------+----------+--------------+\n|InvoiceNo|StockCode|Description                   |Quantity|InvoiceDate        |UnitPrice|CustomerId|Country       |\n+---------+---------+------------------------------+--------+-------------------+---------+----------+--------------+\n|556444   |22502    |PICNIC BASKET WICKER 60 PIECES|60      |2011-06-10 15:28:00|649.5    |15098     |United Kingdom|\n+---------+---------+------------------------------+--------+-------------------+---------+----------+--------------+\n\n+---------+---------+--------------------+--------+-------------------+---------+----------+--------------+\n|InvoiceNo|StockCode|         Description|Quantity|        InvoiceDate|UnitPrice|CustomerId|       Country|\n+---------+---------+--------------------+--------+-------------------+---------+----------+--------------+\n|   556444|    22502|PICNIC BASKET WIC...|      60|2011-06-10 15:28:00|    649.5|     15098|United Kingdom|\n+---------+---------+--------------------+--------+-------------------+---------+----------+--------------+\n\n+---------+---------+--------------------+--------+-------------------+---------+----------+--------------+\n|InvoiceNo|StockCode|         Description|Quantity|        InvoiceDate|UnitPrice|CustomerId|       Country|\n+---------+---------+--------------------+--------+-------------------+---------+----------+--------------+\n|   556444|    22502|PICNIC BASKET WIC...|      60|2011-06-10 15:28:00|    649.5|     15098|United Kingdom|\n+---------+---------+--------------------+--------+-------------------+---------+----------+--------------+\n\n",
          "output_type": "stream"
        }
      ],
      "execution_count": null
    },
    {
      "cell_type": "code",
      "source": [
        "# select invoice lines with quantity > 100 or unitprice > 20\n",
        "df.where((col(\"Quantity\") > 100) | (col(\"UnitPrice\") > 20)).show(2)"
      ],
      "metadata": {
        "id": "sjlaB_QDrJLW",
        "outputId": "76f1cade-c1cf-4514-b48d-7150d92678b7",
        "trusted": true,
        "execution": {
          "iopub.status.busy": "2025-03-10T18:15:30.989169Z",
          "iopub.execute_input": "2025-03-10T18:15:30.989695Z",
          "iopub.status.idle": "2025-03-10T18:15:31.191242Z",
          "shell.execute_reply.started": "2025-03-10T18:15:30.989650Z",
          "shell.execute_reply": "2025-03-10T18:15:31.190187Z"
        }
      },
      "outputs": [
        {
          "name": "stdout",
          "text": "+---------+---------+--------------------+--------+-------------------+---------+----------+--------------+\n|InvoiceNo|StockCode|         Description|Quantity|        InvoiceDate|UnitPrice|CustomerId|       Country|\n+---------+---------+--------------------+--------+-------------------+---------+----------+--------------+\n|   536378|    21212|PACK OF 72 RETROS...|     120|2010-12-01 09:37:00|     0.42|     14688|United Kingdom|\n|     NULL|        D|            Discount|      -1|2010-12-01 09:41:00|     27.5|     14527|United Kingdom|\n+---------+---------+--------------------+--------+-------------------+---------+----------+--------------+\nonly showing top 2 rows\n\n",
          "output_type": "stream"
        }
      ],
      "execution_count": null
    },
    {
      "cell_type": "code",
      "source": [
        "from pyspark.sql.functions import desc, asc\n",
        "\n",
        "# sort in the default order: ascending\n",
        "df.orderBy(expr(\"UnitPrice\")).show(2)\n",
        "\n",
        "df.orderBy(col(\"Quantity\").desc(), col(\"UnitPrice\").asc()).show(10)"
      ],
      "metadata": {
        "id": "-hFuqWHVrJLX",
        "outputId": "94db1eab-cdb5-4d0f-e84e-1e2a224ef07c",
        "trusted": true,
        "execution": {
          "iopub.status.busy": "2025-03-10T18:15:33.227195Z",
          "iopub.execute_input": "2025-03-10T18:15:33.227547Z",
          "iopub.status.idle": "2025-03-10T18:15:36.156407Z",
          "shell.execute_reply.started": "2025-03-10T18:15:33.227520Z",
          "shell.execute_reply": "2025-03-10T18:15:36.155345Z"
        }
      },
      "outputs": [
        {
          "name": "stdout",
          "text": "+---------+---------+---------------+--------+-------------------+---------+----------+--------------+\n|InvoiceNo|StockCode|    Description|Quantity|        InvoiceDate|UnitPrice|CustomerId|       Country|\n+---------+---------+---------------+--------+-------------------+---------+----------+--------------+\n|     NULL|        B|Adjust bad debt|       1|2011-08-12 14:51:00|-11062.06|      NULL|United Kingdom|\n|     NULL|        B|Adjust bad debt|       1|2011-08-12 14:52:00|-11062.06|      NULL|United Kingdom|\n+---------+---------+---------------+--------+-------------------+---------+----------+--------------+\nonly showing top 2 rows\n\n+---------+---------+--------------------+--------+-------------------+---------+----------+--------------+\n|InvoiceNo|StockCode|         Description|Quantity|        InvoiceDate|UnitPrice|CustomerId|       Country|\n+---------+---------+--------------------+--------+-------------------+---------+----------+--------------+\n|   581483|    23843|PAPER CRAFT , LIT...|   80995|2011-12-09 09:15:00|     2.08|     16446|United Kingdom|\n|   541431|    23166|MEDIUM CERAMIC TO...|   74215|2011-01-18 10:01:00|     1.04|     12346|United Kingdom|\n|   578841|    84826|ASSTD DESIGN 3D P...|   12540|2011-11-25 15:57:00|      0.0|     13256|United Kingdom|\n|   542504|    37413|                NULL|    5568|2011-01-28 12:03:00|      0.0|      NULL|United Kingdom|\n|   573008|    84077|WORLD WAR 2 GLIDE...|    4800|2011-10-27 12:26:00|     0.21|     12901|United Kingdom|\n|   554868|    22197|SMALL POPCORN HOLDER|    4300|2011-05-27 10:52:00|     0.72|     13135|United Kingdom|\n|   556231|   85123A|                   ?|    4000|2011-06-09 15:04:00|      0.0|      NULL|United Kingdom|\n|   544612|    22053|EMPIRE DESIGN ROS...|    3906|2011-02-22 10:43:00|     0.82|     18087|United Kingdom|\n|   560599|    18007|ESSENTIAL BALM 3....|    3186|2011-07-19 17:04:00|     0.06|     14609|United Kingdom|\n|   540815|    21108|FAIRY CAKE FLANNE...|    3114|2011-01-11 12:55:00|      2.1|     15749|United Kingdom|\n+---------+---------+--------------------+--------+-------------------+---------+----------+--------------+\nonly showing top 10 rows\n\n",
          "output_type": "stream"
        }
      ],
      "execution_count": null
    },
    {
      "cell_type": "markdown",
      "source": [
        "### Hands-On 4 - Spark Transformations - aggregations\n",
        "full list of built int functions - https://spark.apache.org/docs/latest/api/python/reference/pyspark.sql.html#functions"
      ],
      "metadata": {
        "id": "fkxQOf0brJLX"
      }
    },
    {
      "cell_type": "code",
      "source": [
        "%%time\n",
        "# Count distinct customers\n",
        "from pyspark.sql.functions import countDistinct\n",
        "df.select(countDistinct(\"CustomerID\")).show()"
      ],
      "metadata": {
        "id": "X0gIYcIprJLX",
        "outputId": "3bd49b49-ec70-4981-e03c-c62a3d82ef08",
        "trusted": true,
        "execution": {
          "iopub.status.busy": "2025-03-10T18:15:38.920235Z",
          "iopub.execute_input": "2025-03-10T18:15:38.920645Z",
          "iopub.status.idle": "2025-03-10T18:15:39.851460Z",
          "shell.execute_reply.started": "2025-03-10T18:15:38.920613Z",
          "shell.execute_reply": "2025-03-10T18:15:39.850110Z"
        }
      },
      "outputs": [
        {
          "name": "stdout",
          "text": "+--------------------------+\n|count(DISTINCT CustomerID)|\n+--------------------------+\n|                      4372|\n+--------------------------+\n\nCPU times: user 2.78 ms, sys: 4.42 ms, total: 7.2 ms\nWall time: 923 ms\n",
          "output_type": "stream"
        }
      ],
      "execution_count": null
    },
    {
      "cell_type": "code",
      "source": [
        "%%time\n",
        "# approx. distinct stock items\n",
        "from pyspark.sql.functions import approx_count_distinct\n",
        "df.select(approx_count_distinct(\"CustomerID\", 0.1)).show()"
      ],
      "metadata": {
        "id": "rIcYKGymrJLX",
        "outputId": "995757d1-8c9a-4e8b-dfa3-c42dae23e696",
        "trusted": true,
        "execution": {
          "iopub.status.busy": "2025-03-10T18:15:41.594059Z",
          "iopub.execute_input": "2025-03-10T18:15:41.594401Z",
          "iopub.status.idle": "2025-03-10T18:15:42.262572Z",
          "shell.execute_reply.started": "2025-03-10T18:15:41.594354Z",
          "shell.execute_reply": "2025-03-10T18:15:42.260877Z"
        }
      },
      "outputs": [
        {
          "name": "stdout",
          "text": "+---------------------------------+\n|approx_count_distinct(CustomerID)|\n+---------------------------------+\n|                             4336|\n+---------------------------------+\n\nCPU times: user 4.03 ms, sys: 2.1 ms, total: 6.13 ms\nWall time: 661 ms\n",
          "output_type": "stream"
        }
      ],
      "execution_count": null
    },
    {
      "cell_type": "code",
      "source": [
        "# average, maximum and minimum purchase quantity\n",
        "from pyspark.sql.functions import avg, max, min\n",
        "( df.select(\n",
        "    avg(\"Quantity\").alias(\"avg_purchases\"),\n",
        "    max(\"Quantity\").alias(\"max_purchases\"),\n",
        "    min(\"Quantity\").alias(\"min_purchases\"))\n",
        "   .show()\n",
        ")"
      ],
      "metadata": {
        "id": "0FGqJXjgrJLX",
        "outputId": "6cc9ef48-192f-4086-ee06-cc3d3f8b42a1",
        "trusted": true,
        "execution": {
          "iopub.status.busy": "2025-03-10T16:29:12.613159Z",
          "iopub.execute_input": "2025-03-10T16:29:12.613489Z",
          "iopub.status.idle": "2025-03-10T16:29:13.348213Z",
          "shell.execute_reply.started": "2025-03-10T16:29:12.613465Z",
          "shell.execute_reply": "2025-03-10T16:29:13.345647Z"
        }
      },
      "outputs": [
        {
          "name": "stdout",
          "text": "+----------------+-------------+-------------+\n|   avg_purchases|max_purchases|min_purchases|\n+----------------+-------------+-------------+\n|9.55224954743324|        80995|       -80995|\n+----------------+-------------+-------------+\n\n",
          "output_type": "stream"
        }
      ],
      "execution_count": null
    },
    {
      "cell_type": "markdown",
      "source": [
        "### Hands-On 5 - Spark Transformations - grouping and windows"
      ],
      "metadata": {
        "id": "u1Wt3dqNrJLX"
      }
    },
    {
      "cell_type": "code",
      "source": [
        "# count of items on the invoice\n",
        "df.groupBy(\"InvoiceNo\", \"CustomerId\").count().show(5)\n",
        "\n",
        "# grouping with expressions\n",
        "df.groupBy(\"InvoiceNo\").agg(expr(\"avg(Quantity)\"),expr(\"stddev_pop(Quantity)\"))\\\n",
        "  .show(5)"
      ],
      "metadata": {
        "id": "ivM-iICerJLY",
        "outputId": "34c339d0-8b39-40f6-bab4-ee967b05f5b8",
        "trusted": true,
        "execution": {
          "iopub.status.busy": "2025-03-10T18:15:44.562554Z",
          "iopub.execute_input": "2025-03-10T18:15:44.562995Z",
          "iopub.status.idle": "2025-03-10T18:15:46.933184Z",
          "shell.execute_reply.started": "2025-03-10T18:15:44.562964Z",
          "shell.execute_reply": "2025-03-10T18:15:46.931759Z"
        }
      },
      "outputs": [
        {
          "name": "stdout",
          "text": "+---------+----------+-----+\n|InvoiceNo|CustomerId|count|\n+---------+----------+-----+\n|   536573|     17025|    4|\n|   537228|     17677|    1|\n|   537419|     13495|   14|\n|   538093|     12682|   33|\n|   538648|     17937|    5|\n+---------+----------+-----+\nonly showing top 5 rows\n\n+---------+------------------+--------------------+\n|InvoiceNo|     avg(Quantity)|stddev_pop(Quantity)|\n+---------+------------------+--------------------+\n|   536532| 25.36986301369863|  16.850272831671976|\n|   537632|               1.0|                 0.0|\n|   538708| 10.61111111111111|   7.150282736359209|\n|   538877|14.258278145695364|   27.56989037543246|\n|   538993| 9.333333333333334|   2.748737083745107|\n+---------+------------------+--------------------+\nonly showing top 5 rows\n\n",
          "output_type": "stream"
        }
      ],
      "execution_count": null
    },
    {
      "cell_type": "markdown",
      "source": [
        "### Read the csv file into DataFrame\n",
        "\n",
        "`%%time` is an iPython magic https://ipython.readthedocs.io/en/stable/interactive/magics.html\n"
      ],
      "metadata": {
        "id": "SRr2f8chrJLY"
      }
    },
    {
      "cell_type": "markdown",
      "source": [
        "It's possible to read files without specifying the schema. Some file formats (Parquet is one of them) include the schema, which means that Spark can start reading the file. For format without schema (csv, json...) Spark can infer the schema. Let's see what's the difference in terms of time and of results:"
      ],
      "metadata": {
        "id": "74yUqIPHrJLY"
      }
    },
    {
      "cell_type": "code",
      "source": [
        "online_retail_schema=\"InvoiceNo int, StockCode string, Description string, Quantity int,\\\n",
        "InvoiceDate timestamp,UnitPrice float,CustomerId int, Country string\""
      ],
      "metadata": {
        "id": "nqSkQm4RrJLY",
        "trusted": true,
        "execution": {
          "iopub.status.busy": "2025-03-10T18:15:48.659066Z",
          "iopub.execute_input": "2025-03-10T18:15:48.659573Z",
          "iopub.status.idle": "2025-03-10T18:15:48.664352Z",
          "shell.execute_reply.started": "2025-03-10T18:15:48.659532Z",
          "shell.execute_reply": "2025-03-10T18:15:48.663207Z"
        }
      },
      "outputs": [],
      "execution_count": null
    },
    {
      "cell_type": "code",
      "source": [
        "%%time\n",
        "df = spark.read \\\n",
        "        .option(\"header\", \"true\") \\\n",
        "        .option(\"timestampFormat\", \"M/d/yyyy H:m\")\\\n",
        "        .csv(\"/kaggle/input/online-retail-dataset/OnlineRetail.csv\",\n",
        "             schema=online_retail_schema)"
      ],
      "metadata": {
        "id": "sZLNaGJ-rJLl",
        "outputId": "9c8220b0-7a05-4375-ac91-dcb45d41e51a",
        "trusted": true,
        "execution": {
          "iopub.status.busy": "2025-03-10T18:15:50.488893Z",
          "iopub.execute_input": "2025-03-10T18:15:50.489287Z",
          "iopub.status.idle": "2025-03-10T18:15:50.531583Z",
          "shell.execute_reply.started": "2025-03-10T18:15:50.489256Z",
          "shell.execute_reply": "2025-03-10T18:15:50.530280Z"
        }
      },
      "outputs": [
        {
          "name": "stdout",
          "text": "CPU times: user 4.71 ms, sys: 3.18 ms, total: 7.89 ms\nWall time: 35.9 ms\n",
          "output_type": "stream"
        }
      ],
      "execution_count": null
    },
    {
      "cell_type": "code",
      "source": [
        "%%time\n",
        "df_infer = spark.read \\\n",
        "        .option(\"header\", \"true\") \\\n",
        "        .option(\"inferSchema\", \"true\") \\\n",
        "        .csv(\"/kaggle/input/online-retail-dataset/OnlineRetail.csv\")"
      ],
      "metadata": {
        "scrolled": true,
        "id": "6KiCslK1rJLl",
        "outputId": "a64ecc8d-078c-4fc8-8f4a-7498be30d790",
        "trusted": true,
        "execution": {
          "iopub.status.busy": "2025-03-10T18:15:52.151845Z",
          "iopub.execute_input": "2025-03-10T18:15:52.152186Z",
          "iopub.status.idle": "2025-03-10T18:15:53.682007Z",
          "shell.execute_reply.started": "2025-03-10T18:15:52.152160Z",
          "shell.execute_reply": "2025-03-10T18:15:53.680938Z"
        }
      },
      "outputs": [
        {
          "name": "stdout",
          "text": "CPU times: user 4.56 ms, sys: 474 µs, total: 5.03 ms\nWall time: 1.52 s\n",
          "output_type": "stream"
        }
      ],
      "execution_count": null
    },
    {
      "cell_type": "markdown",
      "source": [
        "## Exercises"
      ],
      "metadata": {
        "id": "BORYSMbTrJLl"
      }
    },
    {
      "cell_type": "markdown",
      "source": [
        "Reminder: documentation at\n",
        "https://spark.apache.org/docs/latest/api/python/index.html"
      ],
      "metadata": {
        "id": "Uh8CsapArJLm"
      }
    },
    {
      "cell_type": "markdown",
      "source": [
        "If you didn't run the previous cells, run the following one:"
      ],
      "metadata": {
        "id": "UHuZbdsvrJLm"
      }
    },
    {
      "cell_type": "code",
      "source": [
        "from pyspark.sql import SparkSession\n",
        "\n",
        "spark = SparkSession.builder \\\n",
        "        .master(\"local[*]\") \\\n",
        "        .appName(\"DataFrame HandsOn 1\") \\\n",
        "        .config(\"spark.ui.showConsoleProgress\",\"false\") \\\n",
        "        .getOrCreate()\n",
        "\n",
        "online_retail_schema=\"InvoiceNo int, StockCode string, Description string, Quantity int,\\\n",
        "InvoiceDate timestamp,UnitPrice float,CustomerId int, Country string\"\n",
        "\n",
        "df = spark.read \\\n",
        "        .option(\"header\", \"true\") \\\n",
        "        .option(\"timestampFormat\", \"M/d/yyyy H:m\")\\\n",
        "        .csv(\"/kaggle/input/online-retail-dataset/OnlineRetail.csv\",\n",
        "             schema=online_retail_schema)"
      ],
      "metadata": {
        "id": "5OeDk8oMrJLm",
        "trusted": true,
        "execution": {
          "iopub.status.busy": "2025-03-10T18:15:56.606221Z",
          "iopub.execute_input": "2025-03-10T18:15:56.606630Z",
          "iopub.status.idle": "2025-03-10T18:15:56.652662Z",
          "shell.execute_reply.started": "2025-03-10T18:15:56.606597Z",
          "shell.execute_reply": "2025-03-10T18:15:56.651519Z"
        }
      },
      "outputs": [],
      "execution_count": null
    },
    {
      "cell_type": "markdown",
      "source": [
        "Task: Show 5 lines of the \"description\" column"
      ],
      "metadata": {
        "id": "c33yzogYrJLm"
      }
    },
    {
      "cell_type": "code",
      "source": [
        "df.select(\"Description\").show(5,False)"
      ],
      "metadata": {
        "trusted": true,
        "execution": {
          "iopub.status.busy": "2025-03-10T18:15:59.380747Z",
          "iopub.execute_input": "2025-03-10T18:15:59.381110Z",
          "iopub.status.idle": "2025-03-10T18:15:59.473651Z",
          "shell.execute_reply.started": "2025-03-10T18:15:59.381078Z",
          "shell.execute_reply": "2025-03-10T18:15:59.472258Z"
        },
        "id": "K8COU0_XVvth",
        "outputId": "f3d53e46-0dff-4d4d-e1cd-93bc99c35b0f"
      },
      "outputs": [
        {
          "name": "stdout",
          "text": "+-----------------------------------+\n|Description                        |\n+-----------------------------------+\n|WHITE HANGING HEART T-LIGHT HOLDER |\n|WHITE METAL LANTERN                |\n|CREAM CUPID HEARTS COAT HANGER     |\n|KNITTED UNION FLAG HOT WATER BOTTLE|\n|RED WOOLLY HOTTIE WHITE HEART.     |\n+-----------------------------------+\nonly showing top 5 rows\n\n",
          "output_type": "stream"
        }
      ],
      "execution_count": null
    },
    {
      "cell_type": "markdown",
      "source": [
        "Task: Count the number of distinct invoices in the dataframe"
      ],
      "metadata": {
        "id": "XsnrYSYPrJLm"
      }
    },
    {
      "cell_type": "code",
      "source": [
        "from pyspark.sql.functions import countDistinct\n",
        "df.select(countDistinct(\"InvoiceNo\").alias(\"Distinct InvoiceNo\")).show()"
      ],
      "metadata": {
        "trusted": true,
        "execution": {
          "iopub.status.busy": "2025-03-10T18:16:02.705886Z",
          "iopub.execute_input": "2025-03-10T18:16:02.706243Z",
          "iopub.status.idle": "2025-03-10T18:16:03.506335Z",
          "shell.execute_reply.started": "2025-03-10T18:16:02.706213Z",
          "shell.execute_reply": "2025-03-10T18:16:03.505252Z"
        },
        "id": "1-zmskblVvth",
        "outputId": "53159902-d034-4083-f182-9c3685cbc207"
      },
      "outputs": [
        {
          "name": "stdout",
          "text": "+------------------+\n|Distinct InvoiceNo|\n+------------------+\n|             22061|\n+------------------+\n\n",
          "output_type": "stream"
        }
      ],
      "execution_count": null
    },
    {
      "cell_type": "code",
      "source": [
        "# Approximate Count for Invoices:\n",
        "from pyspark.sql.functions import approx_count_distinct\n",
        "df.select(approx_count_distinct(\"InvoiceNo\",0.1)).show()"
      ],
      "metadata": {
        "trusted": true,
        "execution": {
          "iopub.status.busy": "2025-03-10T18:16:09.269110Z",
          "iopub.execute_input": "2025-03-10T18:16:09.269469Z",
          "iopub.status.idle": "2025-03-10T18:16:09.962319Z",
          "shell.execute_reply.started": "2025-03-10T18:16:09.269438Z",
          "shell.execute_reply": "2025-03-10T18:16:09.960989Z"
        },
        "id": "e6m0BG_3Vvth",
        "outputId": "80478061-59f4-4c27-d0e7-dc41d79c254c"
      },
      "outputs": [
        {
          "name": "stdout",
          "text": "+--------------------------------+\n|approx_count_distinct(InvoiceNo)|\n+--------------------------------+\n|                           18679|\n+--------------------------------+\n\n",
          "output_type": "stream"
        }
      ],
      "execution_count": null
    },
    {
      "cell_type": "markdown",
      "source": [
        "Task: Find out in which month most invoices have been issued"
      ],
      "metadata": {
        "id": "Vvm0QaeErJLm"
      }
    },
    {
      "cell_type": "code",
      "source": [
        "from pyspark.sql.functions import month, count\n",
        "df.withColumn(\"InvoiceMonth\", month(\"InvoiceDate\")).groupBy(\"InvoiceMonth\").agg(count(\"InvoiceNo\").alias(\"InvoiceCount\")).show(1)"
      ],
      "metadata": {
        "trusted": true,
        "execution": {
          "iopub.status.busy": "2025-03-10T18:16:12.484884Z",
          "iopub.execute_input": "2025-03-10T18:16:12.485276Z",
          "iopub.status.idle": "2025-03-10T18:16:13.859032Z",
          "shell.execute_reply.started": "2025-03-10T18:16:12.485245Z",
          "shell.execute_reply": "2025-03-10T18:16:13.857578Z"
        },
        "colab": {
          "base_uri": "https://localhost:8080/"
        },
        "id": "9vLt5AxCVvth",
        "outputId": "8fb5ca51-4f38-475e-d1e4-84226871974c"
      },
      "outputs": [
        {
          "output_type": "stream",
          "name": "stdout",
          "text": [
            "+------------+------------+\n",
            "|InvoiceMonth|InvoiceCount|\n",
            "+------------+------------+\n",
            "|          12|       41753|\n",
            "+------------+------------+\n",
            "only showing top 1 row\n",
            "\n"
          ]
        }
      ],
      "execution_count": 18
    },
    {
      "cell_type": "markdown",
      "source": [
        "Task: Filter the lines where the Quantity is more than 30"
      ],
      "metadata": {
        "id": "7LEyMTWlrJLm"
      }
    },
    {
      "cell_type": "code",
      "source": [
        "df.filter(df.Quantity>30).show()"
      ],
      "metadata": {
        "trusted": true,
        "execution": {
          "iopub.status.busy": "2025-03-10T18:16:16.411098Z",
          "iopub.execute_input": "2025-03-10T18:16:16.411461Z",
          "iopub.status.idle": "2025-03-10T18:16:16.555443Z",
          "shell.execute_reply.started": "2025-03-10T18:16:16.411433Z",
          "shell.execute_reply": "2025-03-10T18:16:16.553589Z"
        },
        "id": "OxO_SYXQVvti",
        "outputId": "a749bc70-0013-4f93-b7ee-e148464b79b2"
      },
      "outputs": [
        {
          "name": "stdout",
          "text": "+---------+---------+--------------------+--------+-------------------+---------+----------+--------------+\n|InvoiceNo|StockCode|         Description|Quantity|        InvoiceDate|UnitPrice|CustomerId|       Country|\n+---------+---------+--------------------+--------+-------------------+---------+----------+--------------+\n|   536367|    84879|ASSORTED COLOUR B...|      32|2010-12-01 08:34:00|     1.69|     13047|United Kingdom|\n|   536370|    10002|INFLATABLE POLITI...|      48|2010-12-01 08:45:00|     0.85|     12583|        France|\n|   536370|    22492|MINI PAINT SET VI...|      36|2010-12-01 08:45:00|     0.65|     12583|        France|\n|   536371|    22086|PAPER CHAIN KIT 5...|      80|2010-12-01 09:00:00|     2.55|     13748|United Kingdom|\n|   536374|    21258|VICTORIAN SEWING ...|      32|2010-12-01 09:09:00|    10.95|     15100|United Kingdom|\n|   536376|    22114|HOT WATER BOTTLE ...|      48|2010-12-01 09:32:00|     3.45|     15291|United Kingdom|\n|   536376|    21733|RED HANGING HEART...|      64|2010-12-01 09:32:00|     2.55|     15291|United Kingdom|\n|   536378|    21212|PACK OF 72 RETROS...|     120|2010-12-01 09:37:00|     0.42|     14688|United Kingdom|\n|   536378|   85183B|CHARLIE & LOLA WA...|      48|2010-12-01 09:37:00|     1.25|     14688|United Kingdom|\n|   536378|   85071B|RED CHARLIE+LOLA ...|      96|2010-12-01 09:37:00|     0.38|     14688|United Kingdom|\n|   536381|    22719|GUMBALL MONOCHROM...|      36|2010-12-01 09:41:00|     1.06|     15311|United Kingdom|\n|   536382|    22381|TOY TIDY PINK POL...|      50|2010-12-01 09:45:00|     1.85|     16098|United Kingdom|\n|   536384|    84755|COLOUR GLASS T-LI...|      48|2010-12-01 09:53:00|     0.65|     18074|United Kingdom|\n|   536384|    22469|HEART OF WICKER S...|      40|2010-12-01 09:53:00|     1.45|     18074|United Kingdom|\n|   536384|    22470|HEART OF WICKER L...|      40|2010-12-01 09:53:00|     2.55|     18074|United Kingdom|\n|   536386|    84880|WHITE WIRE EGG HO...|      36|2010-12-01 09:57:00|     4.95|     16029|United Kingdom|\n|   536386|   85099C|JUMBO  BAG BAROQU...|     100|2010-12-01 09:57:00|     1.65|     16029|United Kingdom|\n|   536386|   85099B|JUMBO BAG RED RET...|     100|2010-12-01 09:57:00|     1.65|     16029|United Kingdom|\n|   536387|    79321|       CHILLI LIGHTS|     192|2010-12-01 09:58:00|     3.82|     16029|United Kingdom|\n|   536387|    22780|LIGHT GARLAND BUT...|     192|2010-12-01 09:58:00|     3.37|     16029|United Kingdom|\n+---------+---------+--------------------+--------+-------------------+---------+----------+--------------+\nonly showing top 20 rows\n\n",
          "output_type": "stream"
        }
      ],
      "execution_count": null
    },
    {
      "cell_type": "markdown",
      "source": [
        "Task: Show the four most sold items (by quantity)"
      ],
      "metadata": {
        "id": "aVLCaW7PrJLm"
      }
    },
    {
      "cell_type": "code",
      "source": [
        "from pyspark.sql.functions import sum, desc\n",
        "\n",
        "df.groupby(\"Description\").agg(sum(\"Quantity\").alias(\"ItemsQuantity\")).orderBy(desc(\"ItemsQuantity\")).show(4,False)"
      ],
      "metadata": {
        "trusted": true,
        "execution": {
          "iopub.status.busy": "2025-03-10T18:16:19.912261Z",
          "iopub.execute_input": "2025-03-10T18:16:19.912748Z",
          "iopub.status.idle": "2025-03-10T18:16:20.998535Z",
          "shell.execute_reply.started": "2025-03-10T18:16:19.912712Z",
          "shell.execute_reply": "2025-03-10T18:16:20.997428Z"
        },
        "id": "EmLkiTFtVvti",
        "outputId": "7b07ff17-ebfb-4771-f1df-96b89b746c13"
      },
      "outputs": [
        {
          "name": "stdout",
          "text": "+---------------------------------+-------------+\n|Description                      |ItemsQuantity|\n+---------------------------------+-------------+\n|WORLD WAR 2 GLIDERS ASSTD DESIGNS|53847        |\n|JUMBO BAG RED RETROSPOT          |47363        |\n|ASSORTED COLOUR BIRD ORNAMENT    |36381        |\n|POPCORN HOLDER                   |36334        |\n+---------------------------------+-------------+\nonly showing top 4 rows\n\n",
          "output_type": "stream"
        }
      ],
      "execution_count": null
    },
    {
      "cell_type": "markdown",
      "source": [
        "Bonus question: why do these two operations return different results? Hint: look at the documentation"
      ],
      "metadata": {
        "id": "EXgV1IYGrJLm"
      }
    },
    {
      "cell_type": "code",
      "source": [
        "print(df.select(\"InvoiceNo\").distinct().count())\n",
        "from pyspark.sql.functions import countDistinct\n",
        "df.select(countDistinct(\"InvoiceNo\")).show()"
      ],
      "metadata": {
        "id": "UV-VeRZQrJLm",
        "trusted": true,
        "execution": {
          "iopub.status.busy": "2025-03-10T18:16:23.450171Z",
          "iopub.execute_input": "2025-03-10T18:16:23.450608Z",
          "iopub.status.idle": "2025-03-10T18:16:24.946398Z",
          "shell.execute_reply.started": "2025-03-10T18:16:23.450572Z",
          "shell.execute_reply": "2025-03-10T18:16:24.945124Z"
        },
        "outputId": "a06ee398-51a6-4363-bb98-4ca4aa03a430"
      },
      "outputs": [
        {
          "name": "stdout",
          "text": "22062\n+-------------------------+\n|count(DISTINCT InvoiceNo)|\n+-------------------------+\n|                    22061|\n+-------------------------+\n\n",
          "output_type": "stream"
        }
      ],
      "execution_count": null
    }
  ]
}